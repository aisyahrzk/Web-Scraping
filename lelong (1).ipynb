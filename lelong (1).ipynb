{
 "cells": [
  {
   "cell_type": "code",
   "execution_count": 1,
   "metadata": {},
   "outputs": [],
   "source": [
    "from selenium import webdriver\n",
    "from bs4 import BeautifulSoup\n",
    "import pandas as pd\n",
    "import json\n",
    "import requests\n",
    "from urllib.request import urlopen\n",
    "from datetime import datetime\n",
    "from datetime import timedelta\n",
    "import numpy as np"
   ]
  },
  {
   "cell_type": "code",
   "execution_count": 2,
   "metadata": {},
   "outputs": [],
   "source": [
    "carmodel = []\n",
    "price = []\n",
    "year = []\n",
    "auction_date = []\n",
    "registration_no = []\n",
    "#quote_page = 'https://www.ngchanmau.com/auto-search?keyword=&maker=&auction_date=&min_price=&max_price='\n"
   ]
  },
  {
   "cell_type": "code",
   "execution_count": 3,
   "metadata": {},
   "outputs": [],
   "source": [
    "pages = np.arange(1,7,1)\n",
    "\n",
    "for page in pages:\n",
    "    page = requests.get('https://www.ngchanmau.com/auto-search?sort=date&page='+str(page))\n",
    "    soup = BeautifulSoup(page.content,'html.parser')\n",
    "    \n",
    "    #carmodel\n",
    "    for m in soup.find_all('div', attrs = {\"class\":\"vm-location text-truncate font-weight-bold\"}):\n",
    "        carmodel.append(m.text)\n",
    "    \n",
    "    #auction date\n",
    "    main_div=soup.find_all(\"p\",{\"class\":\"text-truncate m-0\"})\n",
    "    for x in main_div:\n",
    "        date=x.find('b').text.split()\n",
    "        i = int(date[0])\n",
    "        j = datetime.now()+timedelta(days=i)\n",
    "        auction_date.append(j.strftime('%x'))\n",
    "    #Year of Make,registration no\n",
    "    for x in soup.find_all(\"table\", { \"class\" : \"table table-borderless m-0\" }):\n",
    "        row = x.findAll(\"tr\")\n",
    "        year.append((row[1].find(\"th\", { \"valign\" : \"top\" })).text)\n",
    "        registration_no.append((row[2].find(\"th\", { \"valign\" : \"top\" })).text)\n",
    "      \n",
    "    \n",
    "    \n"
   ]
  },
  {
   "cell_type": "code",
   "execution_count": 4,
   "metadata": {
    "scrolled": false
   },
   "outputs": [
    {
     "name": "stdout",
     "output_type": "stream",
     "text": [
      "['HONDA ACCORD 2.2', 'HONDA ACCORD 2.4', 'MITSUBISHI TRITON 2.5', 'TOYOTA INNOVA 2.0', 'PROTON SAGA 1.3', 'ISUZU TFR54JDR-RACN 2.5', 'MAZDA 5 2.0', 'PERODUA ALZA 1500', 'FORD RANGER 2.2', 'NISSAN SERENA 2.0', 'TOYOTA ALPHARD 3.0', 'SSANGYONG STAVIC 270 2.7', 'MERCEDES BENZ VITO 119 3.2', 'TOYOTA HILUX 2.5', 'TOYOTA VIOS 1.5', 'PERODUA VIVA 850', 'PERODUA MYVI 1.3', 'PROTON INSPIRA 2.0', 'PERODUA AXIA 1.0', 'PERODUA KENARI 1.0', 'PROTON SAGA 1.3', 'HONDA STREAM 2.0', 'NAZA SORENTO 2.5 EX(D)(A)', 'MINI COOPER S DBA-ZC16 (A)', 'TOYOTA VELLFIRE DBA-GGH20W', 'VOLKSWAGEN GOLF GTI 2.0 (A)', 'TOYOTA ESTIMA DBA-GSR55W', 'MERCEDES BENZ 260E', 'MINI COOPER S 1.6', 'PORSCHE CAYENNE 3.6', 'TOYOTA ALPHARD 3.0', 'TOYOTA VIOS 1.5', 'BMW 730 LI LIMOUSINE', 'FORD FIESTA 1.6', 'MERCEDES BENZ E200K', 'NISSAN SYLPHY 2.0', 'CHERY EASTAR 2.0', 'MERCEDES BENZ C230', 'KAWASAKI VULCAN S 650', 'PROTON EXORA 1.6', 'TOYOTA HARRIER WALD 3.0', 'PROTON PERDANA 2.0', 'BENTLEY CONTINENTAL 6.0', 'HONDA CIVIC 1.7', 'PROTON SATRIA NEO 1.6', 'NISSAN ALMERA 1.5', 'PROTON PREVE 1.6', 'TOYOTA CALDINA 2.0', 'BMW 525 I', 'HYUNDAI ELANTRA 1.8', 'BMW 325 CI', 'PROTON EXORA 1.6', 'TOYOTA ESTIMA 2.4', 'HONDA CITY 1.5L', 'HONDA CIVIC 1.5L', 'MAZDA CX5 2.0', 'PERODUA KANCIL 660', 'PROTON WIRA 1.3', 'PROTON WIRA 1.3', 'PROTON PERSONA ELEGANCE 1.6', 'HONDA ACCORD 2.0', 'NAZA RIA 2.5', 'TOYOTA AVANZA 1.5', 'TOYOTA VIOS 1.5', 'MERCEDES BENZ B170', 'NISSAN LATIO 1.6', 'PROTON SAVVY 1.2']\n",
      "['11/10/20', '11/10/20', '11/10/20', '11/10/20', '11/10/20', '11/10/20', '11/10/20', '11/10/20', '11/10/20', '11/10/20', '11/10/20', '11/10/20', '11/10/20', '11/10/20', '11/10/20', '11/10/20', '11/10/20', '11/10/20', '11/10/20', '11/10/20', '11/10/20', '11/10/20', '11/10/20', '11/10/20', '11/10/20', '11/10/20', '11/10/20', '11/11/20', '11/11/20', '11/11/20', '11/11/20', '11/11/20', '11/11/20', '11/11/20', '11/11/20', '11/11/20', '11/11/20', '11/11/20', '11/11/20', '11/11/20', '11/11/20', '11/11/20', '11/11/20', '11/11/20', '11/11/20', '11/11/20', '11/11/20', '11/11/20', '11/11/20', '11/11/20', '11/11/20', '11/11/20', '11/11/20', '11/11/20', '11/11/20', '11/11/20', '11/11/20', '11/11/20', '11/11/20', '11/11/20', '11/11/20', '11/11/20', '11/11/20', '11/11/20', '11/11/20', '11/11/20', '11/11/20']\n",
      "['1997', '2003', '2015', '2013', '2014', '2013', '2006/07', '2011', '2015', '2008', '2004/08', '2010/11', '2006/08', '2012', '2007', '2007', '2009', '2011', '2017', '2000', '2012', '2003', '2007/08', '2012/16', '2010/13', '2010', '2009/11', '1999 / 2004', '2007 / 2012', '2007 / 2010', '2005 / 2010', '2017', '2011', '2011', '2004', '2009', '2010', '2009', '2015', '2016', '2005', '2000', '2005 / 2010', '2001', '2010', '2015', '2012', '2003 / 2008', '2006 / 2010', '2002', '2007 / 2010', '2012', '2007 / 2008', '2003', '2013', '2013', '2000', '1999', '2002', '2012', '1994', '2004', '2007', '2007', '2006', '2007', '2005']\n",
      "['WPQ6998', 'WLK8966', 'WB9675U', 'W7003J', 'WA8473K', 'W6940E', 'WPW4888', 'WUV1222', 'WB7938M', 'BJU6376', 'JLA588', 'WUU377', 'WRB5379', 'CDA4902', 'WQR3303', 'CCC6815', 'WSP5805', 'WVR3428', 'DDE7760', 'JFU2839', 'WXN1350', 'CBH9228', 'WQW7228', 'BNK8990', 'W6719C', 'WTQ7590', 'PATRIOT3808', 'WMH7843', 'WWX3042', 'WUJ3188', 'MBX5896', 'VAG772', 'WYD839', 'VD6734', 'BKD244', 'WSE2038', 'BKV6648', 'W7697N', 'WB4261R', 'PATRIOT9523', 'WTG3300', 'PEQ2002', 'WTS919', 'WJH8897', 'WTW2472', 'WB6334B', 'TBJ6462', 'CCG7117', 'WTG7772', 'BGJ3878', 'WTL8288', 'WXX2919', 'WRG7557', 'BGW8200', 'W3575X', 'WYL1981', 'AEB6122', 'ADX8570', 'WKP204', 'JNX1098', 'JDD4254', 'JHM9726', 'JKP9516', 'JPB6268', 'WPU6166', 'WQH1963', 'JJH2732']\n"
     ]
    }
   ],
   "source": [
    "\n",
    "    \n",
    "print(carmodel)\n",
    "print(auction_date)\n",
    "print(year)\n",
    "print(registration_no)\n"
   ]
  },
  {
   "cell_type": "code",
   "execution_count": 5,
   "metadata": {},
   "outputs": [
    {
     "name": "stdout",
     "output_type": "stream",
     "text": [
      "               Car Model Auction Date Year of Make Registration No\n",
      "0       HONDA ACCORD 2.2     11/10/20         1997         WPQ6998\n",
      "1       HONDA ACCORD 2.4     11/10/20         2003         WLK8966\n",
      "2  MITSUBISHI TRITON 2.5     11/10/20         2015         WB9675U\n",
      "3      TOYOTA INNOVA 2.0     11/10/20         2013          W7003J\n",
      "4        PROTON SAGA 1.3     11/10/20         2014         WA8473K\n"
     ]
    }
   ],
   "source": [
    "\n",
    "df = pd.DataFrame({'Car Model':carmodel,'Auction Date':auction_date,'Year of Make':year,'Registration No':registration_no}) \n",
    "print(df.head())\n",
    "df.to_csv('keretalelong.csv', index=False, encoding='utf-8')\n"
   ]
  },
  {
   "cell_type": "code",
   "execution_count": null,
   "metadata": {},
   "outputs": [],
   "source": []
  }
 ],
 "metadata": {
  "kernelspec": {
   "display_name": "Python 3",
   "language": "python",
   "name": "python3"
  },
  "language_info": {
   "codemirror_mode": {
    "name": "ipython",
    "version": 3
   },
   "file_extension": ".py",
   "mimetype": "text/x-python",
   "name": "python",
   "nbconvert_exporter": "python",
   "pygments_lexer": "ipython3",
   "version": "3.7.4"
  }
 },
 "nbformat": 4,
 "nbformat_minor": 2
}
